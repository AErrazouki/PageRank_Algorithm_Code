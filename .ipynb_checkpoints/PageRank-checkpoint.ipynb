{
 "cells": [
  {
   "cell_type": "markdown",
   "id": "c222b702-8272-4e3d-a79d-3c938a390eba",
   "metadata": {},
   "source": [
    "# 1- Coded Page Rank Algorithm"
   ]
  },
  {
   "cell_type": "markdown",
   "id": "3952f018-3cf0-4d86-be02-cbb9f062437b",
   "metadata": {},
   "source": [
    "# Method 1 : PageRank from adjacency matrix"
   ]
  },
  {
   "cell_type": "code",
   "execution_count": 1,
   "id": "90fd004e-c505-4792-8789-3299466e5908",
   "metadata": {},
   "outputs": [],
   "source": [
    "import numpy as np\n",
    "\n",
    "# Define the adjacency matrix\n",
    "adj_matrix = np.array([\n",
    "    [0, 0, 0, 0, 0, 0, 0, 0, 0, 0, 0],  # A\n",
    "    [0, 0, 1, 0, 0, 0, 0, 0, 0, 0, 0],  # B\n",
    "    [0, 1, 0, 0, 0, 0, 0, 0, 0, 0, 0],  # C\n",
    "    [1, 1, 0, 0, 0, 0, 0, 0, 0, 0, 0],  # D\n",
    "    [0, 1, 0, 1, 0, 1, 0, 0, 0, 0, 0],  # E\n",
    "    [0, 1, 0, 0, 1, 0, 0, 0, 0, 0, 0],  # F\n",
    "    [0, 1, 0, 0, 1, 0, 0, 0, 0, 0, 0],  # G\n",
    "    [0, 1, 0, 0, 1, 0, 0, 0, 0, 0, 0],  # H\n",
    "    [0, 1, 0, 0, 1, 0, 0, 0, 0, 0, 0],  # I\n",
    "    [0, 0, 0, 0, 1, 0, 0, 0, 0, 0, 0],  # L\n",
    "    [0, 0, 0, 0, 1, 0, 0, 0, 0, 0, 0]   # M\n",
    "])\n",
    "\n",
    "node_ids = ['A', 'B', 'C', 'D', 'E', 'F', 'G', 'H', 'I', 'L', 'M']"
   ]
  },
  {
   "cell_type": "code",
   "execution_count": 2,
   "id": "62319e76-b36a-42b1-954e-177921a0b1b9",
   "metadata": {},
   "outputs": [
    {
     "name": "stdout",
     "output_type": "stream",
     "text": [
      "Convergence atteinte après 81 itérations.\n",
      "PageRank du nœud A: 0.032781\n",
      "PageRank du nœud B: 0.384401\n",
      "PageRank du nœud C: 0.342910\n",
      "PageRank du nœud D: 0.039087\n",
      "PageRank du nœud E: 0.080886\n",
      "PageRank du nœud F: 0.039087\n",
      "PageRank du nœud G: 0.016169\n",
      "PageRank du nœud H: 0.016169\n",
      "PageRank du nœud I: 0.016169\n",
      "PageRank du nœud L: 0.016169\n",
      "PageRank du nœud M: 0.016169\n"
     ]
    }
   ],
   "source": [
    "def PageRank_Matrix(adj_matrix, node_ids, l=0.85, eps=1.0e-6):\n",
    "    N = len(adj_matrix)  # Nombre de pages\n",
    "    R = [1 / N] * N  # Initialisation du vecteur PageRank\n",
    "    new_R = [0] * N  # Pour stocker les nouveaux scores\n",
    "    diff = 1  # Différence initiale entre les itérations\n",
    "    iter = 0\n",
    "    P = [[0 for _ in range(N)] for _ in range(N)]\n",
    "\n",
    "    # Création de la matrice de transition P\n",
    "    for j in range(N):\n",
    "        outlinks = sum(adj_matrix[j])\n",
    "        if outlinks == 0:\n",
    "            for i in range(N):\n",
    "                P[i][j] = 1 / N  # Cas où il n'y a pas de liens sortants\n",
    "        else:\n",
    "            for i in range(N):\n",
    "                P[i][j] = l * (adj_matrix[j][i] / outlinks) + (1 - l) / N\n",
    "    \n",
    "    # Itérations jusqu'à convergence\n",
    "    while diff > eps:\n",
    "        for i in range(N):\n",
    "            # Calcul du PageRank pour la page i\n",
    "            new_R[i] = sum(P[i][j] * R[j] for j in range(N))\n",
    "        \n",
    "        # Calcul de la différence entre les nouvelles et les anciennes valeurs\n",
    "        diff = sum(abs(new_R[i] - R[i]) for i in range(N))\n",
    "\n",
    "        # Mise à jour du vecteur R avec les nouvelles valeurs\n",
    "        R = new_R.copy()\n",
    "        iter += 1\n",
    "    \n",
    "    print(f\"Convergence atteinte après {iter} itérations.\")\n",
    "    \n",
    "    # Afficher les résultats de PageRank pour chaque nœud en utilisant node_ids\n",
    "    for i in range(N):\n",
    "        print(f\"PageRank du nœud {node_ids[i]}: {R[i]:.6f}\")\n",
    "\n",
    "\n",
    "# Appeler la fonction pour afficher les résultats de PageRank\n",
    "PageRank_Matrix(adj_matrix, node_ids)"
   ]
  },
  {
   "cell_type": "markdown",
   "id": "ad12a1aa-8570-44d8-aa0e-aa97ce4b9f7a",
   "metadata": {},
   "source": [
    "# Method 2 : PageRank from a graph"
   ]
  },
  {
   "cell_type": "code",
   "execution_count": 3,
   "id": "54df6d0c-e72a-45c1-be62-f9143fd26dd6",
   "metadata": {},
   "outputs": [],
   "source": [
    "import networkx as nx\n",
    "\n",
    "# Define the edges the social network\n",
    "edges = [\n",
    "    ('B','C'), \n",
    "    ('C', 'B'), \n",
    "    ('D', 'A'), \n",
    "    ('D', 'B'), \n",
    "    ('E', 'B'), \n",
    "    ('E', 'D'), \n",
    "    ('E', 'F'), \n",
    "    ('F', 'B'), \n",
    "    ('F', 'E'), \n",
    "    ('G', 'B'), \n",
    "    ('G', 'E'), \n",
    "    ('H', 'B'), \n",
    "    ('H', 'E'), \n",
    "    ('I', 'B'), \n",
    "    ('I', 'E'), \n",
    "    ('L', 'E'), \n",
    "    ('M', 'E')\n",
    "]"
   ]
  },
  {
   "cell_type": "code",
   "execution_count": 4,
   "id": "b71dd62f-7d53-4663-8363-118b32dc2924",
   "metadata": {},
   "outputs": [
    {
     "name": "stdout",
     "output_type": "stream",
     "text": [
      "Convergence atteinte après 81 itérations.\n",
      "PageRank du nœud B: 0.384401\n",
      "PageRank du nœud C: 0.342910\n",
      "PageRank du nœud D: 0.039087\n",
      "PageRank du nœud A: 0.032781\n",
      "PageRank du nœud E: 0.080886\n",
      "PageRank du nœud F: 0.039087\n",
      "PageRank du nœud G: 0.016169\n",
      "PageRank du nœud H: 0.016169\n",
      "PageRank du nœud I: 0.016169\n",
      "PageRank du nœud L: 0.016169\n",
      "PageRank du nœud M: 0.016169\n"
     ]
    }
   ],
   "source": [
    "import networkx as nx\n",
    "import numpy as np\n",
    "\n",
    "def page_rank_score(G, epsilon=1e-6, alpha=0.85):\n",
    "    nodes = list(G.nodes)  # Liste des nœuds\n",
    "    N = len(nodes)         # Nombre total de nœuds\n",
    "    \n",
    "    # Création de la matrice de transition P\n",
    "    P = np.zeros((N, N))\n",
    "    for j, node in enumerate(nodes):\n",
    "        outgoing_links = len(G[node])  # Nombre de liens sortants du nœud\n",
    "        \n",
    "        if outgoing_links == 0:  # Cas où il n'y a pas de liens sortants (nœud absorbant)\n",
    "            P[:, j] = 1 / N  # Distribuer de manière uniforme à tous les autres nœuds\n",
    "        else:\n",
    "            for i, target_node in enumerate(nodes):\n",
    "                if target_node in G[node]:  # Si un lien existe\n",
    "                    P[i, j] = alpha * (1 / outgoing_links) + (1 - alpha) / N\n",
    "                else:\n",
    "                    P[i, j] = (1 - alpha) / N\n",
    "\n",
    "    # Initialisation du vecteur PageRank R\n",
    "    R = np.ones(N) / N  # Vecteur initial avec des valeurs égales\n",
    "    \n",
    "    # Initialisation du compteur d'itérations\n",
    "    iterations = 0\n",
    "    delta = 1  # Différence initiale\n",
    "    \n",
    "    # Itérations jusqu'à convergence\n",
    "    while delta > epsilon:\n",
    "        R_new = P.dot(R)  # Nouveau vecteur PageRank en multipliant P avec R\n",
    "        delta = np.linalg.norm(R_new - R, 1)  # Différence absolue entre R et R_new\n",
    "        R = R_new\n",
    "        iterations += 1\n",
    "    \n",
    "    # Affichage du résultat\n",
    "    print(f\"Convergence atteinte après {iterations} itérations.\")\n",
    "    for i in range(N):\n",
    "        print(f\"PageRank du nœud {nodes[i]}: {R[i]:.6f}\")\n",
    "\n",
    "# Créer le graphe dirigé\n",
    "G = nx.DiGraph()\n",
    "G.add_edges_from(edges)\n",
    "\n",
    "# Exécuter l'algorithme PageRank\n",
    "page_rank_score(G)\n"
   ]
  },
  {
   "cell_type": "markdown",
   "id": "9aeef569-2326-42f6-a878-bd8e44ef796a",
   "metadata": {},
   "source": [
    "# Method 3 : PageRank from an XML file\n"
   ]
  },
  {
   "cell_type": "code",
   "execution_count": 5,
   "id": "168d1100-16c7-42ee-8382-96dcf3b4f05a",
   "metadata": {},
   "outputs": [
    {
     "name": "stdout",
     "output_type": "stream",
     "text": [
      "Convergence atteinte après 81 itérations.\n",
      "PageRank du nœud B: 0.384401\n",
      "PageRank du nœud C: 0.342910\n",
      "PageRank du nœud D: 0.039087\n",
      "PageRank du nœud A: 0.032781\n",
      "PageRank du nœud E: 0.080886\n",
      "PageRank du nœud F: 0.039087\n",
      "PageRank du nœud G: 0.016169\n",
      "PageRank du nœud H: 0.016169\n",
      "PageRank du nœud I: 0.016169\n",
      "PageRank du nœud L: 0.016169\n",
      "PageRank du nœud M: 0.016169\n"
     ]
    }
   ],
   "source": [
    "import xml.etree.ElementTree as ET\n",
    "import networkx as nx\n",
    "import numpy as np\n",
    "\n",
    "# Fonction combinée pour extraire le graphe du fichier XML et calculer le PageRank\n",
    "def page_rank_score_from_xml(xml_file, epsilon=1e-6, alpha=0.85):\n",
    "    # Parse le fichier XML\n",
    "    tree = ET.parse(xml_file)\n",
    "    root = tree.getroot()\n",
    "\n",
    "    # Créer un graphe dirigé et ajouter les arêtes\n",
    "    G = nx.DiGraph()\n",
    "    for node in root.findall('node'):\n",
    "        page_id = node.find('id').text\n",
    "        neighbors = node.find('neighbors').text.strip().split()\n",
    "        for neighbor in neighbors:\n",
    "            G.add_edge(page_id, neighbor)\n",
    "    \n",
    "    nodes = list(G.nodes)  # Liste des nœuds\n",
    "    N = len(nodes)         # Nombre total de nœuds\n",
    "    \n",
    "    # Création de la matrice de transition P\n",
    "    P = np.zeros((N, N))\n",
    "    for j, node in enumerate(nodes):\n",
    "        outgoing_links = len(G[node])  # Nombre de liens sortants du nœud\n",
    "        \n",
    "        if outgoing_links == 0:  # Cas où il n'y a pas de liens sortants\n",
    "            P[:, j] = 1 / N \n",
    "        else:\n",
    "            for i, target_node in enumerate(nodes):\n",
    "                if target_node in G[node]:  # Si un lien existe\n",
    "                    P[i, j] = alpha * (1 / outgoing_links) + (1 - alpha) / N\n",
    "                else: # Si aucun lien n'existe entre le nœud actuel et le nœud cible\n",
    "                    P[i, j] = (1 - alpha) / N\n",
    "\n",
    "    # Initialisation du vecteur PageRank R\n",
    "    R = np.ones(N) / N\n",
    "    \n",
    "    # Initialisation du compteur d'itérations\n",
    "    iterations = 0\n",
    "    delta = 1  # Différence initiale\n",
    "    \n",
    "    # Itérations jusqu'à convergence\n",
    "    while delta > epsilon:\n",
    "        R_new = P.dot(R)  # Nouveau vecteur PageRank en multipliant P avec R\n",
    "        delta = np.linalg.norm(R_new - R, 1)  # Différence absolue entre R et R_new\n",
    "        R = R_new\n",
    "        iterations += 1\n",
    "    \n",
    "    # Affichage du résultat\n",
    "    print(f\"Convergence atteinte après {iterations} itérations.\")\n",
    "    for i in range(N):\n",
    "        print(f\"PageRank du nœud {nodes[i]}: {R[i]:.6f}\")\n",
    "\n",
    "# Exemple d'utilisation avec le fichier XML\n",
    "xml_file = 'edges.xml'\n",
    "page_rank_score_from_xml(xml_file)"
   ]
  },
  {
   "cell_type": "markdown",
   "id": "5d97b3b8-fb10-4e10-8327-a6a9e971f5ed",
   "metadata": {},
   "source": [
    "# 2- Built-in PageRank function\n"
   ]
  },
  {
   "cell_type": "markdown",
   "id": "d5cf80ec-0c08-41f2-b0f0-7774a542b625",
   "metadata": {},
   "source": [
    "# with a Graph"
   ]
  },
  {
   "cell_type": "code",
   "execution_count": 6,
   "id": "3cdae452-e5d5-4d64-9e3e-37c4337f0cb9",
   "metadata": {},
   "outputs": [
    {
     "name": "stdout",
     "output_type": "stream",
     "text": [
      "PageRank du nœud B: 0.384399\n",
      "PageRank du nœud C: 0.342913\n",
      "PageRank du nœud D: 0.039087\n",
      "PageRank du nœud A: 0.032781\n",
      "PageRank du nœud E: 0.080886\n",
      "PageRank du nœud F: 0.039087\n",
      "PageRank du nœud G: 0.016169\n",
      "PageRank du nœud H: 0.016169\n",
      "PageRank du nœud I: 0.016169\n",
      "PageRank du nœud L: 0.016169\n",
      "PageRank du nœud M: 0.016169\n"
     ]
    }
   ],
   "source": [
    "import networkx as nx\n",
    "\n",
    "def calculer_pagerank(G):\n",
    "    # Créer un graphe orienté à partir des arêtes données\n",
    "    G = nx.DiGraph(edges)\n",
    "    \n",
    "    # Calculer le PageRank\n",
    "    pagerank = nx.pagerank(G, tol=1e-6, alpha=0.85)\n",
    "    \n",
    "    for node, rank in pagerank.items():\n",
    "        print(f\"PageRank du nœud {node}: {rank:.6f}\")\n",
    "\n",
    "# Appeler la fonction avec les arêtes données\n",
    "calculer_pagerank(edges)\n"
   ]
  },
  {
   "cell_type": "markdown",
   "id": "b5e3dd3c-9eae-4832-87f9-e2a4685dba21",
   "metadata": {},
   "source": [
    "# with an adjancency matrix"
   ]
  },
  {
   "cell_type": "code",
   "execution_count": 7,
   "id": "202c4978-9a83-48b7-a85f-c56a93bd6029",
   "metadata": {},
   "outputs": [
    {
     "name": "stdout",
     "output_type": "stream",
     "text": [
      "The PageRank of node A: 0.032781\n",
      "The PageRank of node B: 0.384399\n",
      "The PageRank of node C: 0.342913\n",
      "The PageRank of node D: 0.039087\n",
      "The PageRank of node E: 0.080886\n",
      "The PageRank of node F: 0.039087\n",
      "The PageRank of node G: 0.016169\n",
      "The PageRank of node H: 0.016169\n",
      "The PageRank of node I: 0.016169\n",
      "The PageRank of node L: 0.016169\n",
      "The PageRank of node M: 0.016169\n"
     ]
    }
   ],
   "source": [
    "# Create a directed graph from the adjacency matrix\n",
    "G = nx.from_numpy_array(adj_matrix, create_using=nx.DiGraph)\n",
    "\n",
    "# Relabel the nodes in the graph\n",
    "G = nx.relabel_nodes(G, {i: label for i, label in enumerate(node_ids)})\n",
    "\n",
    "# Calculate PageRank using NetworkX\n",
    "page_rank_scores_A = nx.pagerank(G, alpha=0.85)\n",
    "\n",
    "for node, score in page_rank_scores_A.items():\n",
    "    print(f\"The PageRank of node {node}: {score:.6f}\")\n"
   ]
  },
  {
   "cell_type": "markdown",
   "id": "c763aae0-74c3-477c-a4b3-a680d727962a",
   "metadata": {},
   "source": [
    "# with an XML file"
   ]
  },
  {
   "cell_type": "code",
   "execution_count": 8,
   "id": "b0809764-5c7c-4202-8eb1-5c9b276d7184",
   "metadata": {},
   "outputs": [
    {
     "name": "stdout",
     "output_type": "stream",
     "text": [
      "The PageRank of node B: 0.384399\n",
      "The PageRank of node C: 0.342913\n",
      "The PageRank of node D: 0.039087\n",
      "The PageRank of node A: 0.032781\n",
      "The PageRank of node E: 0.080886\n",
      "The PageRank of node F: 0.039087\n",
      "The PageRank of node G: 0.016169\n",
      "The PageRank of node H: 0.016169\n",
      "The PageRank of node I: 0.016169\n",
      "The PageRank of node L: 0.016169\n",
      "The PageRank of node M: 0.016169\n"
     ]
    }
   ],
   "source": [
    "# Parse the XML file\n",
    "tree = ET.parse('edges.xml')\n",
    "root = tree.getroot()\n",
    "\n",
    "# Create a directed graph\n",
    "G = nx.DiGraph()\n",
    "\n",
    "# Extract nodes and their neighbors from the XML\n",
    "for node in root.findall('node'):\n",
    "    node_id = node.find('id').text.strip()  # Get the node ID\n",
    "    neighbors = node.find('neighbors').text.strip().split()  # Get the neighbors (outlinks)\n",
    "    for neighbor in neighbors:\n",
    "        G.add_edge(node_id, neighbor)  # Add edge between the node and each of its neighbors\n",
    "\n",
    "# Calculate PageRank using NetworkX\n",
    "page_rank_scores_X = nx.pagerank(G, alpha=0.85)\n",
    "\n",
    "# Output the PageRank scores formatted to six decimal places\n",
    "for node, score in page_rank_scores_X.items():\n",
    "    print(f\"The PageRank of node {node}: {score:.6f}\")\n"
   ]
  }
 ],
 "metadata": {
  "kernelspec": {
   "display_name": "Python 3 (ipykernel)",
   "language": "python",
   "name": "python3"
  },
  "language_info": {
   "codemirror_mode": {
    "name": "ipython",
    "version": 3
   },
   "file_extension": ".py",
   "mimetype": "text/x-python",
   "name": "python",
   "nbconvert_exporter": "python",
   "pygments_lexer": "ipython3",
   "version": "3.11.7"
  }
 },
 "nbformat": 4,
 "nbformat_minor": 5
}
