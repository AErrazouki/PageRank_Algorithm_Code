{
 "cells": [
  {
   "cell_type": "markdown",
   "id": "8df6b015-5f0c-42b7-9072-ef186c7eebc0",
   "metadata": {},
   "source": [
    "# Bibliothèque "
   ]
  },
  {
   "cell_type": "code",
   "execution_count": 2,
   "id": "6f70af35-c5a7-40e3-924e-2403b50e308a",
   "metadata": {},
   "outputs": [],
   "source": [
    "import tkinter as tk\n",
    "import numpy as np\n",
    "import networkx as nx\n",
    "from xml.etree import ElementTree as ET\n",
    "import matplotlib.pyplot as plt\n",
    "from matplotlib.backends.backend_tkagg import FigureCanvasTkAgg\n",
    "import ast\n",
    "from matplotlib.figure import Figure\n",
    "import tkinter as tk\n",
    "from tkinter import ttk, filedialog, messagebox, Text\n",
    "from tkinter.scrolledtext import ScrolledText\n",
    "import pyperclip  # Import the pyperclip module"
   ]
  },
  {
   "cell_type": "markdown",
   "id": "835703cd-9337-43cd-9f40-6e83d75037e3",
   "metadata": {},
   "source": [
    "# Algorithm Page Rank"
   ]
  },
  {
   "cell_type": "code",
   "execution_count": 5,
   "id": "65b3ee28-f3b5-4501-a8cb-d46a73e1309c",
   "metadata": {},
   "outputs": [],
   "source": [
    "def PageRank_score(graph, alpha=0.85, eps=1e-6):\n",
    "    N = len(graph)\n",
    "    P = np.zeros((N, N))\n",
    "\n",
    "    for j in range(N):\n",
    "        out_links = sum(graph[j])\n",
    "        if out_links == 0:\n",
    "            for i in range(N):\n",
    "                P[i][j] = 1 / N\n",
    "        else:\n",
    "            for i in range(N):\n",
    "                P[i][j] = alpha * (graph[j][i] / out_links) + (1 - alpha) / N\n",
    "\n",
    "    R = np.ones(N) / N\n",
    "    delta = 1\n",
    "    iterations = 0\n",
    "\n",
    "    while delta > eps:\n",
    "        new_R = np.dot(P, R)\n",
    "        delta = np.sum(np.abs(new_R - R))\n",
    "        R = new_R\n",
    "        iterations += 1\n",
    "\n",
    "    print(f\"Converged in {iterations} iterations.\")\n",
    "    return R"
   ]
  },
  {
   "cell_type": "markdown",
   "id": "09f674c2-2a94-45db-a44b-dee88c904f62",
   "metadata": {},
   "source": [
    "# Methode 1 : PageRank from adjacency matrix"
   ]
  },
  {
   "cell_type": "code",
   "execution_count": 8,
   "id": "b562aa69-3abb-44b3-a1a0-2bdb90abfeb2",
   "metadata": {},
   "outputs": [],
   "source": [
    "def convertir_graph_en_matrice(graph):\n",
    "    N = len(graph)\n",
    "    matrice_adj = np.zeros((N, N))\n",
    "    \n",
    "    # Create an index map for nodes\n",
    "    index_map = {node: idx for idx, node in enumerate(graph.keys())}\n",
    "    \n",
    "    # Fill adjacency matrix based on graph connections\n",
    "    for node, voisins in graph.items():\n",
    "        for voisin in voisins:\n",
    "            matrice_adj[index_map[node], index_map[voisin]] = 1\n",
    "            \n",
    "    return matrice_adj"
   ]
  },
  {
   "cell_type": "code",
   "execution_count": 10,
   "id": "2cddcf35-0dbe-4faa-94e3-c199fc947f4d",
   "metadata": {},
   "outputs": [],
   "source": [
    "def PageRank_matrix(matrice, alpha=0.85, eps=1e-6):\n",
    "    scores = PageRank_score(matrice, alpha, eps)\n",
    "    return scores"
   ]
  },
  {
   "cell_type": "markdown",
   "id": "b6a2161f-3fa5-4c5a-8142-4a20480f8f66",
   "metadata": {},
   "source": [
    "# Methode 2 : PageRank from XML File"
   ]
  },
  {
   "cell_type": "code",
   "execution_count": 13,
   "id": "8128e0dc-0777-4774-9773-845d0cf55358",
   "metadata": {},
   "outputs": [],
   "source": [
    "def construire_xml_graph(graph, nom_fichier=\"graph.xml\"):\n",
    "    # Création de l'élément racine\n",
    "    root = ET.Element(\"graph\")\n",
    "\n",
    "    # Parcourir chaque nœud et ses voisins\n",
    "    for node, neighbors in graph.items():\n",
    "        # Ajouter un élément \"node\" pour chaque nœud\n",
    "        node_element = ET.SubElement(root, \"node\", id=str(node))\n",
    "        \n",
    "        # Ajouter les voisins comme éléments enfants de ce nœud\n",
    "        for neighbor in neighbors:\n",
    "            ET.SubElement(node_element, \"edge\", target=str(neighbor))\n",
    "\n",
    "    # Création de l'arbre XML\n",
    "    tree = ET.ElementTree(root)\n",
    "    \n",
    "    # Écrire l'arbre dans un fichier XML\n",
    "    with open(nom_fichier, \"wb\") as f:\n",
    "        tree.write(f, encoding=\"utf-8\", xml_declaration=True)\n",
    "\n",
    "    print(f\"Le fichier XML '{nom_fichier}' a été créé avec succès.\")"
   ]
  },
  {
   "cell_type": "code",
   "execution_count": 15,
   "id": "a63596e0-988b-4d56-8b3e-f13b59fc49ff",
   "metadata": {},
   "outputs": [],
   "source": [
    "# PageRank from XML graph representation\n",
    "def PageRank_Xml(xml_file, alpha=0.85, eps=1.0e-6):\n",
    "    tree = ET.parse(xml_file)\n",
    "    root = tree.getroot()\n",
    "    nodes = root.findall('.//node')\n",
    "\n",
    "    # Map node IDs to indices\n",
    "    node_id_map = {node.get('id'): index for index, node in enumerate(nodes)}\n",
    "    N = len(nodes)\n",
    "    graph = np.zeros((N, N))\n",
    "\n",
    "    # Populate the graph matrix based on XML structure\n",
    "    for node in nodes:\n",
    "        node_id = node.get('id')\n",
    "        for edge in node.findall('.//edge'):\n",
    "            target_id = edge.get('target')\n",
    "            if target_id in node_id_map:\n",
    "                graph[node_id_map[node_id], node_id_map[target_id]] = 1\n",
    "\n",
    "    pagerank_scores = PageRank_score(graph, alpha, eps)\n",
    "    scores_dict = {node_id: pagerank_scores[index] for node_id, index in node_id_map.items()}\n",
    "\n",
    "    return scores_dict \n"
   ]
  },
  {
   "cell_type": "markdown",
   "id": "50701339-f7dc-40c8-8868-6fc2b733c5fa",
   "metadata": {},
   "source": [
    "# Methode 3 : PageRank from Graph"
   ]
  },
  {
   "cell_type": "code",
   "execution_count": 18,
   "id": "2ab6abb5-b1a5-43e0-a92d-2471bdb24451",
   "metadata": {},
   "outputs": [],
   "source": [
    "def PageRank_Graph(graph_dict, alpha=0.85, eps=1.0e-6):\n",
    "    nodes = list(graph_dict.keys())\n",
    "    N = len(nodes)\n",
    "\n",
    "    # Create an adjacency matrix from the graph dictionary\n",
    "    G = np.zeros((N, N))\n",
    "    for node, edges in graph_dict.items():\n",
    "        for edge in edges:\n",
    "            if edge in nodes:\n",
    "                G[nodes.index(node), nodes.index(edge)] = 1\n",
    "\n",
    "    # Calculate PageRank\n",
    "    pagerank_scores = PageRank_score(G, alpha=alpha, eps=eps)\n",
    "    pagerank_dict = {node: score for node, score in zip(nodes, pagerank_scores)}\n",
    "\n",
    "    return pagerank_dict"
   ]
  },
  {
   "cell_type": "code",
   "execution_count": 20,
   "id": "0cb073e5-50bf-433d-a4c3-87cd47bbc430",
   "metadata": {},
   "outputs": [],
   "source": [
    "def draw_graph(graph_dict):\n",
    "    G = nx.DiGraph()\n",
    "    for node, neighbors in graph_dict.items():\n",
    "        for neighbor in neighbors:\n",
    "            G.add_edge(node, neighbor)\n",
    "    \n",
    "    plt.figure(figsize=(4, 4))\n",
    "    pos = nx.spring_layout(G)\n",
    "    nx.draw(G, pos, with_labels=True, node_size=1500, \n",
    "            node_color='lightblue', font_size=16, \n",
    "            font_color='blue', font_weight='bold', arrows=True)\n",
    "    plt.title(\"Directed Graph\")\n",
    "    plt.show()\n",
    "    \n",
    "    return G"
   ]
  },
  {
   "cell_type": "markdown",
   "id": "5f6c96d5-1449-4fd9-a0f9-4cb4d00dbb96",
   "metadata": {},
   "source": [
    "# Test"
   ]
  },
  {
   "cell_type": "code",
   "execution_count": 23,
   "id": "a2791302-548d-4517-9246-9888bd530321",
   "metadata": {},
   "outputs": [],
   "source": [
    "# G = {\n",
    "#     'A': [],\n",
    "#     'B': ['C'],\n",
    "#     'C': ['B'],\n",
    "#     'D': ['A', 'B'],\n",
    "#     'E': ['B', 'D', 'F'],\n",
    "#     'F': ['B', 'E'],\n",
    "#     'G': ['B', 'E'],\n",
    "#     'H': ['B', 'E'],\n",
    "#     'I': ['B', 'E'],\n",
    "#     'L': ['E'],\n",
    "#     'M': ['E']\n",
    "# }"
   ]
  },
  {
   "cell_type": "code",
   "execution_count": 25,
   "id": "ba120cd3-b103-4e27-aec0-b5176d76b42c",
   "metadata": {},
   "outputs": [],
   "source": [
    "G = {\n",
    "    'A': ['B', 'C'],\n",
    "    'B': ['C'],\n",
    "    'C': ['A'],\n",
    "    'D': ['A', 'B']\n",
    "}"
   ]
  },
  {
   "cell_type": "code",
   "execution_count": 27,
   "id": "a79f4069-37d6-49e1-8be8-2a6a7a77b5f4",
   "metadata": {},
   "outputs": [
    {
     "name": "stdout",
     "output_type": "stream",
     "text": [
      "Le fichier XML 'graph.xml' a été créé avec succès.\n",
      "Converged in 26 iterations.\n",
      "Scores de PageRank : {'A': 0.3736078848629388, 'B': 0.21222085106674898, 'C': 0.37667126407031204, 'D': 0.0375}\n"
     ]
    }
   ],
   "source": [
    "# Construire le fichier XML\n",
    "construire_xml_graph(G, nom_fichier=\"graph.xml\")\n",
    "\n",
    "# Calculer les scores de PageRank à partir du fichier XML\n",
    "pagerank_scores = PageRank_Xml(\"graph.xml\")\n",
    "print(\"Scores de PageRank :\", pagerank_scores)"
   ]
  },
  {
   "cell_type": "code",
   "execution_count": 29,
   "id": "b1445ea8-7944-4c73-8be0-50909f8031bf",
   "metadata": {},
   "outputs": [
    {
     "data": {
      "text/plain": [
       "array([[0., 1., 1., 0.],\n",
       "       [0., 0., 1., 0.],\n",
       "       [1., 0., 0., 0.],\n",
       "       [1., 1., 0., 0.]])"
      ]
     },
     "execution_count": 29,
     "metadata": {},
     "output_type": "execute_result"
    }
   ],
   "source": [
    "convertir_graph_en_matrice(G)"
   ]
  },
  {
   "cell_type": "code",
   "execution_count": 31,
   "id": "953e4c31-ab4d-4a3e-afab-4a507c20fd77",
   "metadata": {},
   "outputs": [
    {
     "name": "stdout",
     "output_type": "stream",
     "text": [
      "Converged in 26 iterations.\n",
      "Scores de PageRank : [0.37360788 0.21222085 0.37667126 0.0375    ]\n"
     ]
    }
   ],
   "source": [
    "# Example: Adjacency matrix input\n",
    "# adj_matrix = np.array([\n",
    "#     [0, 0, 0, 0, 0, 0, 0, 0, 0, 0, 0],  # A\n",
    "#     [0, 0, 1, 0, 0, 0, 0, 0, 0, 0, 0],  # B\n",
    "#     [0, 1, 0, 0, 0, 0, 0, 0, 0, 0, 0],  # C\n",
    "#     [1, 1, 0, 0, 0, 0, 0, 0, 0, 0, 0],  # D\n",
    "#     [0, 1, 0, 1, 0, 1, 0, 0, 0, 0, 0],  # E\n",
    "#     [0, 1, 0, 0, 1, 0, 0, 0, 0, 0, 0],  # F\n",
    "#     [0, 1, 0, 0, 1, 0, 0, 0, 0, 0, 0],  # G\n",
    "#     [0, 1, 0, 0, 1, 0, 0, 0, 0, 0, 0],  # H\n",
    "#     [0, 1, 0, 0, 1, 0, 0, 0, 0, 0, 0],  # I\n",
    "#     [0, 0, 0, 0, 1, 0, 0, 0, 0, 0, 0],  # L\n",
    "#     [0, 0, 0, 0, 1, 0, 0, 0, 0, 0, 0]   # M\n",
    "# ])\n",
    "adj_matrix = np.array([\n",
    "       [0., 1., 1., 0.],\n",
    "       [0., 0., 1., 0.],\n",
    "       [1., 0., 0., 0.],\n",
    "       [1., 1., 0., 0.]])\n",
    "# Calculate and display PageRank scores\n",
    "pagerank_scores = PageRank_matrix(adj_matrix)\n",
    "print(\"Scores de PageRank :\", pagerank_scores)"
   ]
  },
  {
   "cell_type": "code",
   "execution_count": 33,
   "id": "8ca4a0fe-9458-433b-99e8-6d4a2ea80c7c",
   "metadata": {},
   "outputs": [
    {
     "name": "stdout",
     "output_type": "stream",
     "text": [
      "Converged in 26 iterations.\n",
      "Scores de PageRank : {'A': 0.3736078848629388, 'B': 0.21222085106674898, 'C': 0.37667126407031204, 'D': 0.0375}\n"
     ]
    }
   ],
   "source": [
    "pagerank_scores = PageRank_Graph(G)\n",
    "print(\"Scores de PageRank :\", pagerank_scores)"
   ]
  },
  {
   "cell_type": "code",
   "execution_count": 35,
   "id": "7b6d7de6-c6fa-4fbe-89a2-7fe98efe0557",
   "metadata": {},
   "outputs": [
    {
     "data": {
      "image/png": "[encoded data removed]",
      "text/plain": [
       "<Figure size 400x400 with 1 Axes>"
      ]
     },
     "metadata": {},
     "output_type": "display_data"
    },
    {
     "name": "stdout",
     "output_type": "stream",
     "text": [
      "Scores de PageRank (NetworkX) : {'A': 0.3736086276232221, 'B': 0.21222116673986935, 'C': 0.37667020563690845, 'D': 0.037500000000000006}\n"
     ]
    }
   ],
   "source": [
    "# Draw the graph and get the NetworkX graph object\n",
    "G_nx = draw_graph(G)\n",
    "G_nx\n",
    "# Calculate PageRank \n",
    "pagerank_scores_nx = nx.pagerank(G_nx, alpha=0.85)\n",
    "print(\"Scores de PageRank (NetworkX) :\", pagerank_scores_nx)"
   ]
  },
  {
   "cell_type": "code",
   "execution_count": 44,
   "id": "f21fe92b-79af-4d19-9f86-55af8c2f2899",
   "metadata": {},
   "outputs": [],
   "source": [
    "# GUI setup\n",
    "app = tk.Tk()\n",
    "app.title(\"Interface PageRank\")\n",
    "app.geometry(\"600x800\")\n",
    "\n",
    "# Tabs\n",
    "notebook = ttk.Notebook(app)\n",
    "notebook.pack(expand=True, fill=\"both\")\n",
    "\n",
    "# Graph Page\n",
    "graph_page = ttk.Frame(notebook)\n",
    "notebook.add(graph_page, text=\"Page Graph\")\n",
    "\n",
    "# Matrix Page\n",
    "matrix_page = ttk.Frame(notebook)\n",
    "notebook.add(matrix_page, text=\"Page Matrice\")\n",
    "\n",
    "# XML Page\n",
    "xml_page = ttk.Frame(notebook)\n",
    "notebook.add(xml_page, text=\"Page XML\")\n",
    "\n",
    "# Graph Page Widgets\n",
    "tk.Label(graph_page, text=\"Entrer le Graph sous forme de dictionnaire:\").pack()\n",
    "graph_entry = ScrolledText(graph_page, height=5, width=60)\n",
    "graph_entry.pack()\n",
    "\n",
    "# Define functions\n",
    "def draw_graph():\n",
    "    try:\n",
    "        graph_dict = eval(graph_entry.get(\"1.0\", tk.END).strip())\n",
    "        G = nx.DiGraph(graph_dict)\n",
    "        fig, ax = plt.subplots(figsize=(5, 4))\n",
    "        nx.draw(G, with_labels=True, ax=ax)\n",
    "        \n",
    "        # Clear previous canvas\n",
    "        for widget in graph_page.winfo_children():\n",
    "            if isinstance(widget, FigureCanvasTkAgg):\n",
    "                widget.get_tk_widget().destroy()\n",
    "\n",
    "        canvas = FigureCanvasTkAgg(fig, master=graph_page)\n",
    "        canvas.draw()\n",
    "        canvas.get_tk_widget().pack()\n",
    "    except Exception as e:\n",
    "        messagebox.showerror(\"Erreur\", f\"Erreur en dessinant le graph: {e}\")\n",
    "\n",
    "def calculate_page_rank_graph():\n",
    "    try:\n",
    "        graph_dict = eval(graph_entry.get(\"1.0\", tk.END).strip())\n",
    "        result = PageRank_Graph(graph_dict)\n",
    "        messagebox.showinfo(\"Résultat PageRank\", f\"PageRank: {result}\")\n",
    "    except Exception as e:\n",
    "        messagebox.showerror(\"Erreur\", f\"Erreur de calcul de PageRank: {e}\")\n",
    "\n",
    "def load_xml():\n",
    "    filename = filedialog.asksaveasfilename(defaultextension=\".xml\", filetypes=[(\"XML files\", \"*.xml\")])\n",
    "    if filename:\n",
    "        try:\n",
    "            graph_dict = eval(graph_entry.get(\"1.0\", tk.END).strip())\n",
    "            construire_xml_graph(graph_dict, filename)\n",
    "            messagebox.showinfo(\"Succès\", f\"Fichier XML créé: {filename}\")\n",
    "        except Exception as e:\n",
    "            messagebox.showerror(\"Erreur\", f\"Erreur lors de la création XML: {e}\")\n",
    "\n",
    "def calculate_page_rank_xml():\n",
    "    filename = filedialog.askopenfilename(filetypes=[(\"XML files\", \"*.xml\")])\n",
    "    if filename:\n",
    "        try:\n",
    "            result = PageRank_Xml(filename)\n",
    "            result_str = f\"Scores de PageRank : {result}\"\n",
    "            messagebox.showinfo(\"PageRank XML\", result_str)\n",
    "        except Exception as e:\n",
    "            messagebox.showerror(\"Erreur\", f\"Erreur de calcul de PageRank depuis XML: {e}\")\n",
    "\n",
    "def convert_to_matrix():\n",
    "    try:\n",
    "        graph_dict = eval(graph_entry.get(\"1.0\", tk.END).strip())\n",
    "        matrix = convertir_graph_en_matrice(graph_dict)\n",
    "        labels = ['A', 'B', 'C', 'D', 'E', 'F', 'G', 'H', 'I', 'L', 'M']\n",
    "        matrix_str_lines = [f\"    {list(map(int, row))},  # {labels[i]}\" for i, row in enumerate(matrix)]\n",
    "        matrix_str = \"[\\n\" + \"\\n\".join(matrix_str_lines) + \"\\n]\"\n",
    "        pyperclip.copy(matrix_str)\n",
    "        messagebox.showinfo(\"Matrice d'adjacence\", f\"Matrice copiée:\\n{matrix_str}\\n\\nLa matrice a été copiée dans le presse-papiers.\")\n",
    "    except Exception as e:\n",
    "        messagebox.showerror(\"Erreur\", f\"Erreur de conversion en matrice: {e}\")\n",
    "\n",
    "# Add buttons to graph page\n",
    "tk.Button(graph_page, text=\"Dessiner le Graph\", command=draw_graph).pack()\n",
    "tk.Button(graph_page, text=\"Calculer PageRank (Graph)\", command=calculate_page_rank_graph).pack()\n",
    "tk.Button(graph_page, text=\"Créer XML à partir du Graph\", command=load_xml).pack()\n",
    "tk.Button(graph_page, text=\"Convertir le Graph en Matrice et Copier\", command=convert_to_matrix).pack()\n",
    "\n",
    "# Matrix Page Widgets\n",
    "tk.Label(matrix_page, text=\"Entrer la Matrice Adjacente:\").pack()\n",
    "matrix_entry = ScrolledText(matrix_page, height=5, width=60)\n",
    "matrix_entry.pack()\n",
    "\n",
    "def calculate_page_rank_matrix():\n",
    "    try:\n",
    "        matrix = eval(matrix_entry.get(\"1.0\", tk.END).strip())\n",
    "        pagerank_result = PageRank_score(np.array(matrix))\n",
    "        messagebox.showinfo(\"PageRank Matrice\", f\"PageRank: {pagerank_result}\")\n",
    "    except Exception as e:\n",
    "        messagebox.showerror(\"Erreur\", f\"Erreur de calcul de PageRank: {e}\")\n",
    "\n",
    "# Add button to matrix page\n",
    "tk.Button(matrix_page, text=\"Calculer PageRank (Matrice)\", command=calculate_page_rank_matrix).pack()\n",
    "\n",
    "# XML Page Widgets\n",
    "tk.Label(xml_page, text=\"PageRank depuis File XML\").pack(pady=10)\n",
    "tk.Button(xml_page, text=\"Calculer PageRank (XML)\", command=calculate_page_rank_xml).pack()\n",
    "\n",
    "# Start the application\n",
    "app.mainloop()"
   ]
  },
  {
   "cell_type": "markdown",
   "id": "b4aa9f5f-6afc-47d2-af5c-71e6fda1ef79",
   "metadata": {},
   "source": [
    "# Built-in PageRank "
   ]
  },
  {
   "cell_type": "code",
   "execution_count": 40,
   "id": "a6df84cd-3525-4abe-84cb-f06930dd2408",
   "metadata": {},
   "outputs": [
    {
     "name": "stdout",
     "output_type": "stream",
     "text": [
      "{'A': '0.373609'}\n",
      "{'B': '0.212221'}\n",
      "{'C': '0.376670'}\n",
      "{'D': '0.037500'}\n"
     ]
    }
   ],
   "source": [
    "# graph_dict = {\n",
    "#     'A': [],\n",
    "#     'B': ['C'],\n",
    "#     'C': ['B'],\n",
    "#     'D': ['A', 'B'],\n",
    "#     'E': ['B', 'D', 'F'],\n",
    "#     'F': ['B', 'E'],\n",
    "#     'G': ['B', 'E'],\n",
    "#     'H': ['B', 'E'],\n",
    "#     'I': ['B', 'E'],\n",
    "#     'L': ['E'],\n",
    "#     'M': ['E']\n",
    "# }\n",
    "\n",
    "graph_dict = {\n",
    "    'A': ['B', 'C'],\n",
    "    'B': ['C'],\n",
    "    'C': ['A'],\n",
    "    'D': ['A', 'B']\n",
    "}\n",
    "\n",
    "# Create a directed graph from the dictionary\n",
    "graph = nx.DiGraph()\n",
    "\n",
    "# Add edges to the graph based on the input dictionary\n",
    "for node, edges in graph_dict.items():\n",
    "    for edge in edges:\n",
    "        graph.add_edge(node, edge)\n",
    "\n",
    "# Calculate PageRank using NetworkX directly\n",
    "page_rank_scores = nx.pagerank(graph, alpha=0.85)\n",
    "\n",
    "# Output the PageRank scores formatted to one decimal place\n",
    "for node, score in page_rank_scores.items():\n",
    "    print({node: f\"{score:.6f}\"})"
   ]
  },
  {
   "cell_type": "code",
   "execution_count": 42,
   "id": "c22df5d4-efac-445d-b776-5823dcce7aeb",
   "metadata": {},
   "outputs": [
    {
     "name": "stdout",
     "output_type": "stream",
     "text": [
      "{'A': '0.373609'}\n",
      "{'B': '0.212221'}\n",
      "{'C': '0.376670'}\n",
      "{'D': '0.037500'}\n"
     ]
    }
   ],
   "source": [
    "# Create a directed graph from the adjacency matrix\n",
    "G = nx.from_numpy_array(adj_matrix, create_using=nx.DiGraph)\n",
    "\n",
    "# Define node labels (to match your original labels)\n",
    "node_labels = ['A', 'B', 'C', 'D', 'E', 'F', 'G', 'H', 'I', 'L', 'M']\n",
    "\n",
    "# Relabel the nodes in the graph\n",
    "G = nx.relabel_nodes(G, {i: label for i, label in enumerate(node_labels)})\n",
    "\n",
    "# Calculate PageRank using NetworkX\n",
    "page_rank_scores_A = nx.pagerank(G, alpha=0.85)\n",
    "\n",
    "for node, score in page_rank_scores_A.items():\n",
    "    print({node: f\"{score:.6f}\"})"
   ]
  },
  {
   "cell_type": "code",
   "execution_count": null,
   "id": "a4d3b402-f861-42dc-a691-2082c5c5eb05",
   "metadata": {},
   "outputs": [],
   "source": []
  }
 ],
 "metadata": {
  "kernelspec": {
   "display_name": "Python 3 (ipykernel)",
   "language": "python",
   "name": "python3"
  },
  "language_info": {
   "codemirror_mode": {
    "name": "ipython",
    "version": 3
   },
   "file_extension": ".py",
   "mimetype": "text/x-python",
   "name": "python",
   "nbconvert_exporter": "python",
   "pygments_lexer": "ipython3",
   "version": "3.12.4"
  }
 },
 "nbformat": 4,
 "nbformat_minor": 5
}
